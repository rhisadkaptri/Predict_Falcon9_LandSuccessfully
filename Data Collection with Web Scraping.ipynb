{
    "cells": [
        {
            "metadata": {},
            "cell_type": "markdown",
            "source": "<p style=\"text-align:center\">\n    <a href=\"https://skills.network/?utm_medium=Exinfluencer&utm_source=Exinfluencer&utm_content=000026UJ&utm_term=10006555&utm_id=NA-SkillsNetwork-Channel-SkillsNetworkCoursesIBMDS0321ENSkillsNetwork26802033-2022-01-01\" target=\"_blank\">\n    <img src=\"https://cf-courses-data.s3.us.cloud-object-storage.appdomain.cloud/assets/logos/SN_web_lightmode.png\" width=\"200\" alt=\"Skills Network Logo\"  />\n    </a>\n</p>\n"
        },
        {
            "metadata": {},
            "cell_type": "markdown",
            "source": "# **Space X  Falcon 9 First Stage Landing Prediction**\n"
        },
        {
            "metadata": {},
            "cell_type": "markdown",
            "source": "## Web scraping Falcon 9 and Falcon Heavy Launches Records from Wikipedia\n"
        },
        {
            "metadata": {},
            "cell_type": "markdown",
            "source": "Estimated time needed: **40** minutes\n"
        },
        {
            "metadata": {},
            "cell_type": "markdown",
            "source": "In this lab, you will be performing web scraping to collect Falcon 9 historical launch records from a Wikipedia page titled `List of Falcon 9 and Falcon Heavy launches`\n\n[https://en.wikipedia.org/wiki/List_of_Falcon\\_9\\_and_Falcon_Heavy_launches](https://en.wikipedia.org/wiki/List_of_Falcon\\_9\\_and_Falcon_Heavy_launches?utm_medium=Exinfluencer&utm_source=Exinfluencer&utm_content=000026UJ&utm_term=10006555&utm_id=NA-SkillsNetwork-Channel-SkillsNetworkCoursesIBMDS0321ENSkillsNetwork26802033-2022-01-01)\n"
        },
        {
            "metadata": {},
            "cell_type": "markdown",
            "source": "![](https://cf-courses-data.s3.us.cloud-object-storage.appdomain.cloud/IBM-DS0321EN-SkillsNetwork/labs/module\\_1\\_L2/images/Falcon9\\_rocket_family.svg)\n"
        },
        {
            "metadata": {},
            "cell_type": "markdown",
            "source": "Falcon 9 first stage will land successfully\n"
        },
        {
            "metadata": {},
            "cell_type": "markdown",
            "source": "![](https://cf-courses-data.s3.us.cloud-object-storage.appdomain.cloud/IBMDeveloperSkillsNetwork-DS0701EN-SkillsNetwork/api/Images/landing\\_1.gif)\n"
        },
        {
            "metadata": {},
            "cell_type": "markdown",
            "source": "Several examples of an unsuccessful landing are shown here:\n"
        },
        {
            "metadata": {},
            "cell_type": "markdown",
            "source": "![](https://cf-courses-data.s3.us.cloud-object-storage.appdomain.cloud/IBMDeveloperSkillsNetwork-DS0701EN-SkillsNetwork/api/Images/crash.gif)\n"
        },
        {
            "metadata": {},
            "cell_type": "markdown",
            "source": "More specifically, the launch records are stored in a HTML table shown below:\n"
        },
        {
            "metadata": {},
            "cell_type": "markdown",
            "source": "![](https://cf-courses-data.s3.us.cloud-object-storage.appdomain.cloud/IBM-DS0321EN-SkillsNetwork/labs/module\\_1\\_L2/images/falcon9-launches-wiki.png)\n"
        },
        {
            "metadata": {},
            "cell_type": "markdown",
            "source": "## Objectives\n\nWeb scrap Falcon 9 launch records with `BeautifulSoup`:\n\n*   Extract a Falcon 9 launch records HTML table from Wikipedia\n*   Parse the table and convert it into a Pandas data frame\n"
        },
        {
            "metadata": {},
            "cell_type": "markdown",
            "source": "First let's import required packages for this lab\n"
        },
        {
            "metadata": {},
            "cell_type": "code",
            "source": "!pip3 install beautifulsoup4\n!pip3 install requests",
            "execution_count": 23,
            "outputs": [
                {
                    "output_type": "stream",
                    "text": "Requirement already satisfied: beautifulsoup4 in /opt/conda/envs/Python-3.10/lib/python3.10/site-packages (4.11.1)\nRequirement already satisfied: soupsieve>1.2 in /opt/conda/envs/Python-3.10/lib/python3.10/site-packages (from beautifulsoup4) (2.3.1)\nRequirement already satisfied: requests in /opt/conda/envs/Python-3.10/lib/python3.10/site-packages (2.28.1)\nRequirement already satisfied: charset-normalizer<3,>=2 in /opt/conda/envs/Python-3.10/lib/python3.10/site-packages (from requests) (2.0.4)\nRequirement already satisfied: idna<4,>=2.5 in /opt/conda/envs/Python-3.10/lib/python3.10/site-packages (from requests) (3.3)\nRequirement already satisfied: urllib3<1.27,>=1.21.1 in /opt/conda/envs/Python-3.10/lib/python3.10/site-packages (from requests) (1.26.11)\nRequirement already satisfied: certifi>=2017.4.17 in /opt/conda/envs/Python-3.10/lib/python3.10/site-packages (from requests) (2022.9.24)\n",
                    "name": "stdout"
                }
            ]
        },
        {
            "metadata": {},
            "cell_type": "code",
            "source": "import sys\n\nimport requests\nfrom bs4 import BeautifulSoup\nimport re\nimport unicodedata\nimport pandas as pd",
            "execution_count": 24,
            "outputs": []
        },
        {
            "metadata": {},
            "cell_type": "markdown",
            "source": "and we will provide some helper functions for you to process web scraped HTML table\n"
        },
        {
            "metadata": {},
            "cell_type": "code",
            "source": "def date_time(table_cells):\n    \"\"\"\n    This function returns the data and time from the HTML  table cell\n    Input: the  element of a table data cell extracts extra row\n    \"\"\"\n    return [data_time.strip() for data_time in list(table_cells.strings)][0:2]\n\ndef booster_version(table_cells):\n    \"\"\"\n    This function returns the booster version from the HTML  table cell \n    Input: the  element of a table data cell extracts extra row\n    \"\"\"\n    out=''.join([booster_version for i,booster_version in enumerate( table_cells.strings) if i%2==0][0:-1])\n    return out\n\ndef landing_status(table_cells):\n    \"\"\"\n    This function returns the landing status from the HTML table cell \n    Input: the  element of a table data cell extracts extra row\n    \"\"\"\n    out=[i for i in table_cells.strings][0]\n    return out\n\n\ndef get_mass(table_cells):\n    mass=unicodedata.normalize(\"NFKD\", table_cells.text).strip()\n    if mass:\n        mass.find(\"kg\")\n        new_mass=mass[0:mass.find(\"kg\")+2]\n    else:\n        new_mass=0\n    return new_mass\n\n\ndef extract_column_from_header(row):\n    \"\"\"\n    This function returns the landing status from the HTML table cell \n    Input: the  element of a table data cell extracts extra row\n    \"\"\"\n    if (row.br):\n        row.br.extract()\n    if row.a:\n        row.a.extract()\n    if row.sup:\n        row.sup.extract()\n        \n    colunm_name = ' '.join(row.contents)\n    \n    # Filter the digit and empty names\n    if not(colunm_name.strip().isdigit()):\n        colunm_name = colunm_name.strip()\n        return colunm_name    \n",
            "execution_count": 25,
            "outputs": []
        },
        {
            "metadata": {},
            "cell_type": "markdown",
            "source": "To keep the lab tasks consistent, you will be asked to scrape the data from a snapshot of the  `List of Falcon 9 and Falcon Heavy launches` Wikipage updated on\n`9th June 2021`\n"
        },
        {
            "metadata": {},
            "cell_type": "code",
            "source": "static_url = \"https://en.wikipedia.org/w/index.php?title=List_of_Falcon_9_and_Falcon_Heavy_launches&oldid=1027686922\"",
            "execution_count": 26,
            "outputs": []
        },
        {
            "metadata": {},
            "cell_type": "markdown",
            "source": "Next, request the HTML page from the above URL and get a `response` object\n"
        },
        {
            "metadata": {},
            "cell_type": "markdown",
            "source": "### TASK 1: Request the Falcon9 Launch Wiki page from its URL\n"
        },
        {
            "metadata": {},
            "cell_type": "markdown",
            "source": "First, let's perform an HTTP GET method to request the Falcon9 Launch HTML page, as an HTTP response.\n"
        },
        {
            "metadata": {},
            "cell_type": "code",
            "source": "# use requests.get() method with the provided static_url\nhtml = requests.get(static_url).text\n#print(html)\n# assign the response to a object",
            "execution_count": 27,
            "outputs": []
        },
        {
            "metadata": {},
            "cell_type": "markdown",
            "source": "Create a `BeautifulSoup` object from the HTML `response`\n"
        },
        {
            "metadata": {},
            "cell_type": "code",
            "source": "# Use BeautifulSoup() to create a BeautifulSoup object from a response text content\nsoup = BeautifulSoup(html, 'html.parser')",
            "execution_count": 28,
            "outputs": []
        },
        {
            "metadata": {},
            "cell_type": "markdown",
            "source": "Print the page title to verify if the `BeautifulSoup` object was created properly\n"
        },
        {
            "metadata": {},
            "cell_type": "code",
            "source": "# Use soup.title attribute\nsoup.title.text",
            "execution_count": 29,
            "outputs": [
                {
                    "output_type": "execute_result",
                    "execution_count": 29,
                    "data": {
                        "text/plain": "'List of Falcon 9 and Falcon Heavy launches - Wikipedia'"
                    },
                    "metadata": {}
                }
            ]
        },
        {
            "metadata": {},
            "cell_type": "markdown",
            "source": "### TASK 2: Extract all column/variable names from the HTML table header\n"
        },
        {
            "metadata": {},
            "cell_type": "markdown",
            "source": "Next, we want to collect all relevant column names from the HTML table header\n"
        },
        {
            "metadata": {},
            "cell_type": "markdown",
            "source": "Let's try to find all tables on the wiki page first. If you need to refresh your memory about `BeautifulSoup`, please check the external reference link towards the end of this lab\n"
        },
        {
            "metadata": {},
            "cell_type": "code",
            "source": "# Use the find_all function in the BeautifulSoup object, with element type `table`\nsoup.find_all(\"table\")\n# Assign the result to a list called `html_tables`\nhtml_tables = soup.find_all(\"table\")",
            "execution_count": 30,
            "outputs": []
        },
        {
            "metadata": {},
            "cell_type": "markdown",
            "source": "Starting from the third table is our target table contains the actual launch records.\n"
        },
        {
            "metadata": {},
            "cell_type": "code",
            "source": "# Let's print the third table and check its content\nfirst_launch_table = html_tables[2]\n#print(first_launch_table)",
            "execution_count": 31,
            "outputs": []
        },
        {
            "metadata": {},
            "cell_type": "markdown",
            "source": "You should able to see the columns names embedded in the table header elements `<th>` as follows:\n"
        },
        {
            "metadata": {},
            "cell_type": "markdown",
            "source": "```\n<tr>\n<th scope=\"col\">Flight No.\n</th>\n<th scope=\"col\">Date and<br/>time (<a href=\"/wiki/Coordinated_Universal_Time\" title=\"Coordinated Universal Time\">UTC</a>)\n</th>\n<th scope=\"col\"><a href=\"/wiki/List_of_Falcon_9_first-stage_boosters\" title=\"List of Falcon 9 first-stage boosters\">Version,<br/>Booster</a> <sup class=\"reference\" id=\"cite_ref-booster_11-0\"><a href=\"#cite_note-booster-11\">[b]</a></sup>\n</th>\n<th scope=\"col\">Launch site\n</th>\n<th scope=\"col\">Payload<sup class=\"reference\" id=\"cite_ref-Dragon_12-0\"><a href=\"#cite_note-Dragon-12\">[c]</a></sup>\n</th>\n<th scope=\"col\">Payload mass\n</th>\n<th scope=\"col\">Orbit\n</th>\n<th scope=\"col\">Customer\n</th>\n<th scope=\"col\">Launch<br/>outcome\n</th>\n<th scope=\"col\"><a href=\"/wiki/Falcon_9_first-stage_landing_tests\" title=\"Falcon 9 first-stage landing tests\">Booster<br/>landing</a>\n</th></tr>\n```\n"
        },
        {
            "metadata": {},
            "cell_type": "markdown",
            "source": "Next, we just need to iterate through the `<th>` elements and apply the provided `extract_column_from_header()` to extract column name one by one\n"
        },
        {
            "metadata": {},
            "cell_type": "code",
            "source": "column_names = []\n\n# Apply find_all() function with `th` element on first_launch_table\nth_list = first_launch_table.find_all('th')\n# Iterate each th element and apply the provided extract_column_from_header() to get a column name\nfor th in th_list:\n    name = extract_column_from_header(th)\n    if name is not None and len(name) > 0:\n# Append the Non-empty column name (`if name is not None and len(name) > 0`) into a list called column_names\n        column_names.append(name)",
            "execution_count": 32,
            "outputs": []
        },
        {
            "metadata": {},
            "cell_type": "markdown",
            "source": "Check the extracted column names\n"
        },
        {
            "metadata": {},
            "cell_type": "code",
            "source": "print(column_names)",
            "execution_count": 33,
            "outputs": [
                {
                    "output_type": "stream",
                    "text": "['Flight No.', 'Date and time ( )', 'Launch site', 'Payload', 'Payload mass', 'Orbit', 'Customer', 'Launch outcome']\n",
                    "name": "stdout"
                }
            ]
        },
        {
            "metadata": {},
            "cell_type": "markdown",
            "source": "## TASK 3: Create a data frame by parsing the launch HTML tables\n"
        },
        {
            "metadata": {},
            "cell_type": "markdown",
            "source": "We will create an empty dictionary with keys from the extracted column names in the previous task. Later, this dictionary will be converted into a Pandas dataframe\n"
        },
        {
            "metadata": {},
            "cell_type": "code",
            "source": "launch_dict= dict.fromkeys(column_names)\n\n# Remove an irrelvant column\ndel launch_dict['Date and time ( )']\n\n# Let's initial the launch_dict with each value to be an empty list\nlaunch_dict['Flight No.'] = []\nlaunch_dict['Launch site'] = []\nlaunch_dict['Payload'] = []\nlaunch_dict['Payload mass'] = []\nlaunch_dict['Orbit'] = []\nlaunch_dict['Customer'] = []\nlaunch_dict['Launch outcome'] = []\n# Added some new columns\nlaunch_dict['Version Booster']=[]\nlaunch_dict['Booster landing']=[]\nlaunch_dict['Date']=[]\nlaunch_dict['Time']=[]",
            "execution_count": 34,
            "outputs": []
        },
        {
            "metadata": {},
            "cell_type": "markdown",
            "source": "Next, we just need to fill up the `launch_dict` with launch records extracted from table rows.\n"
        },
        {
            "metadata": {},
            "cell_type": "markdown",
            "source": "Usually, HTML tables in Wiki pages are likely to contain unexpected annotations and other types of noises, such as reference links `B0004.1[8]`, missing values `N/A [e]`, inconsistent formatting, etc.\n"
        },
        {
            "metadata": {},
            "cell_type": "markdown",
            "source": "To simplify the parsing process, we have provided an incomplete code snippet below to help you to fill up the `launch_dict`. Please complete the following code snippet with TODOs or you can choose to write your own logic to parse all launch tables:\n"
        },
        {
            "metadata": {},
            "cell_type": "code",
            "source": "extracted_row = 0\n#Extract each table \nfor table_number,table in enumerate(soup.find_all('table',\"wikitable plainrowheaders collapsible\")):\n   # get table row \n    for rows in table.find_all(\"tr\"):\n        #check to see if first table heading is as number corresponding to launch a number \n        if rows.th:\n            if rows.th.string:\n                flight_number=rows.th.string.strip()\n                flag=flight_number.isdigit()\n        else:\n            flag=False\n        #get table element \n        row=rows.find_all('td')\n        #if it is number save cells in a dictonary \n        if flag:\n            extracted_row += 1\n            # Flight Number value\n            # TODO: Append the flight_number into launch_dict with key `Flight No.`\n            launch_dict['Flight No.'].append(flight_number)\n            #print(flight_number)\n            \n            datatimelist=date_time(row[0])\n            \n            # Date value\n            # TODO: Append the date into launch_dict with key `Date`\n            date = datatimelist[0].strip(',')\n            launch_dict['Date'].append(date)\n            #print(date)\n            \n            # Time value\n            # TODO: Append the time into launch_dict with key `Time`\n            time = datatimelist[1]\n            launch_dict['Time'].append(time)\n            #print(time)\n              \n            # Booster version\n            # TODO: Append the bv into launch_dict with key `Version Booster`\n            bv=booster_version(row[1])\n            if not(bv):\n                bv=row[1].a.string\n            launch_dict['Version Booster'].append(bv)\n            #print(bv)\n            \n            # Launch Site\n            # TODO: Append the bv into launch_dict with key `Launch Site`\n            launch_site = row[2].a.string\n            launch_dict['Launch site'].append(launch_site)\n            #print(launch_site)\n            \n            # Payload\n            # TODO: Append the payload into launch_dict with key `Payload`\n            payload = row[3].a.string\n            launch_dict['Payload'].append(payload)\n            #print(payload)\n            \n            # Payload Mass\n            # TODO: Append the payload_mass into launch_dict with key `Payload mass`\n            payload_mass = get_mass(row[4])\n            launch_dict['Payload mass'].append(payload_mass)\n            #print(payload_mass)\n            \n            # Orbit\n            # TODO: Append the orbit into launch_dict with key `Orbit`\n            orbit = row[5].a.string\n            launch_dict['Orbit'].append(orbit)\n            #print(orbit)\n            \n            # Customer\n            # TODO: Append the customer into launch_dict with key `Customer`\n            if (row[6].a is not None):\n                customer=row[6].a.string\n            else:\n                customer=row[6].string\n            launch_dict['Customer'].append(customer)\n            #print(customer)\n            \n            # Launch outcome\n            # TODO: Append the launch_outcome into launch_dict with key `Launch outcome`\n            launch_outcome = list(row[7].strings)[0]\n            launch_dict['Launch outcome'].append(launch_outcome)\n            #print(launch_outcome)\n            \n            # Booster landing\n            # TODO: Append the launch_outcome into launch_dict with key `Booster landing`\n            booster_landing = landing_status(row[8]).strip('\\n')\n            launch_dict['Booster landing'].append(booster_landing)\n            #print(booster_landing)",
            "execution_count": 35,
            "outputs": []
        },
        {
            "metadata": {},
            "cell_type": "code",
            "source": "new_df = pd.DataFrame(launch_dict)\nnew_df[\"Launch outcome\"]=new_df[\"Launch outcome\"].str.replace(\"\\n\",\"\")\nnew_df[\"Booster landing\"]=new_df[\"Booster landing\"].str.replace(\"\\n\",\"\")\nnew_df.tail(50)",
            "execution_count": 36,
            "outputs": [
                {
                    "output_type": "execute_result",
                    "execution_count": 36,
                    "data": {
                        "text/plain": "    Flight No. Launch site                                   Payload  \\\n71          72        VAFB                    RADARSAT Constellation   \n72          73       CCAFS                             SpaceX CRS-18   \n73          74       CCAFS                                   AMOS-17   \n74          75       CCAFS                                  Starlink   \n75          76       CCAFS                             SpaceX CRS-19   \n76          77       CCAFS                                  JCSat-18   \n77          78       CCAFS                                  Starlink   \n78          79         KSC          Crew Dragon in-flight abort test   \n79          80       CCAFS                                  Starlink   \n80          81       CCAFS                                  Starlink   \n81          82       CCAFS                             SpaceX CRS-20   \n82          83         KSC                                  Starlink   \n83          84         KSC                                  Starlink   \n84          85         KSC                        Crew Dragon Demo-2   \n85          86       CCAFS                                  Starlink   \n86          87       CCAFS                                  Starlink   \n87          88       CCAFS                                   GPS III   \n88          89       CCAFS                                 ANASIS-II   \n89          90         KSC                                  Starlink   \n90          91       CCAFS                                  Starlink   \n91          92       CCAFS                                 SAOCOM 1B   \n92          93         KSC                                  Starlink   \n93          94         KSC                                  Starlink   \n94          95         KSC                                  Starlink   \n95          96       CCAFS                                  Starlink   \n96          97       CCAFS                                   GPS III   \n97          98         KSC                                    Crew-1   \n98          99        VAFB  Sentinel-6 Michael Freilich (Jason-CS A)   \n99         100       CCAFS                                  Starlink   \n100        101         KSC                             SpaceX CRS-21   \n101        102       CCSFS                                     SXM-7   \n102        103         KSC                                  NROL-108   \n103        104       CCSFS                                T\u00fcrksat 5A   \n104        105         KSC                                  Starlink   \n105        106       CCSFS                             Transporter-1   \n106        107       CCSFS                                  Starlink   \n107        108       CCSFS                                  Starlink   \n108        109         KSC                                  Starlink   \n109        110       CCSFS                                  Starlink   \n110        111         KSC                                  Starlink   \n111        112       CCSFS                                  Starlink   \n112        113       CCSFS                                  Starlink   \n113        114         KSC                                    Crew-2   \n114        115       CCSFS                                  Starlink   \n115        116         KSC                                  Starlink   \n116        117       CCSFS                                  Starlink   \n117        118         KSC                                  Starlink   \n118        119       CCSFS                                  Starlink   \n119        120         KSC                             SpaceX CRS-22   \n120        121       CCSFS                                     SXM-8   \n\n       Payload mass        Orbit                Customer Launch outcome  \\\n71         4,200 kg          SSO   Canadian Space Agency        Success   \n72         2,268 kg          LEO                    NASA        Success   \n73         6,500 kg          GTO                Spacecom        Success   \n74        15,600 kg          LEO                  SpaceX        Success   \n75         2,617 kg          LEO                    NASA        Success   \n76         6,956 kg          GTO        Sky Perfect JSAT        Success   \n77        15,600 kg          LEO                  SpaceX        Success   \n78        12,050 kg  Sub-orbital                    NASA        Success   \n79        15,600 kg          LEO                  SpaceX        Success   \n80        15,600 kg          LEO                  SpaceX        Success   \n81         1,977 kg          LEO                    NASA        Success   \n82        15,600 kg          LEO                  SpaceX        Success   \n83        15,600 kg          LEO                  SpaceX        Success   \n84        12,530 kg          LEO                    NASA        Success   \n85        15,600 kg          LEO                  SpaceX        Success   \n86        15,410 kg          LEO                  SpaceX        Success   \n87         4,311 kg          MEO        U.S. Space Force        Success   \n88   5,000\u20136,000 kg          GTO  Republic of Korea Army        Success   \n89        14,932 kg          LEO                  SpaceX        Success   \n90       ~15,440 kg          LEO                  SpaceX        Success   \n91         3,130 kg          SSO                   CONAE        Success   \n92        15,600 kg          LEO                  SpaceX        Success   \n93        15,600 kg          LEO                  SpaceX        Success   \n94        15,600 kg          LEO                  SpaceX        Success   \n95        15,600 kg          LEO                  SpaceX        Success   \n96         4,311 kg          MEO                    USSF        Success   \n97       ~12,500 kg          LEO                    NASA        Success   \n98         1,192 kg          LEO                    NASA        Success   \n99        15,600 kg          LEO                  SpaceX        Success   \n100        2,972 kg          LEO                    NASA        Success   \n101        7,000 kg          GTO               Sirius XM        Success   \n102               C          LEO                     NRO        Success   \n103        3,500 kg          GTO                 T\u00fcrksat        Success   \n104       15,600 kg          LEO                  SpaceX        Success   \n105       ~5,000 kg          SSO               Various\\n        Success   \n106       15,600 kg          LEO                  SpaceX        Success   \n107       15,600 kg          LEO                  SpaceX        Success   \n108       15,600 kg          LEO                  SpaceX        Success   \n109       15,600 kg          LEO                  SpaceX        Success   \n110       15,600 kg          LEO                  SpaceX        Success   \n111       15,600 kg          LEO                  SpaceX        Success   \n112       15,600 kg          LEO                  SpaceX        Success   \n113      ~13,000 kg          LEO                    NASA        Success   \n114       15,600 kg          LEO                  SpaceX        Success   \n115       15,600 kg          LEO                  SpaceX        Success   \n116       15,600 kg          LEO                  SpaceX        Success   \n117      ~14,000 kg          LEO                  SpaceX        Success   \n118       15,600 kg          LEO                  SpaceX        Success   \n119        3,328 kg          LEO                    NASA        Success   \n120        7,000 kg          GTO               Sirius XM        Success   \n\n    Version Booster Booster landing              Date      Time  \n71     F9 B5B1051.2         Success      12 June 2019     14:17  \n72     F9 B5B1056.2         Success      25 July 2019     22:01  \n73     F9 B5B1047.3      No attempt     6 August 2019     23:23  \n74            F9 B5         Success  11 November 2019     14:56  \n75            F9 B5         Success   5 December 2019     17:29  \n76     F9 B5B1056.3         Success  17 December 2019     00:10  \n77            F9 B5         Success    7 January 2020  02:19:21  \n78            F9 B5      No attempt   19 January 2020     15:30  \n79            F9 B5         Success   29 January 2020     14:07  \n80            F9 B5         Failure  17 February 2020     15:05  \n81            F9 B5         Success      7 March 2020     04:50  \n82            F9 B5         Failure     18 March 2020     12:16  \n83            F9 B5         Success     22 April 2020     19:30  \n84            F9 B5         Success       30 May 2020     19:22  \n85            F9 B5         Success       4 June 2020     01:25  \n86            F9 B5         Success      13 June 2020     09:21  \n87            F9 B5         Success      30 June 2020  20:10:46  \n88     F9 B5B1058.2         Success      20 July 2020     21:30  \n89            F9 B5         Success     7 August 2020     05:12  \n90     F9 B5B1049.6         Success    18 August 2020     14:31  \n91            F9 B5         Success    30 August 2020     23:18  \n92     F9 B5B1060.2         Success  3 September 2020  12:46:14  \n93     F9 B5B1058.3         Success    6 October 2020  11:29:34  \n94     F9 B5B1051.6         Success   18 October 2020  12:25:57  \n95            F9 B5         Success   24 October 2020  15:31:34  \n96            F9 B5         Success   5 November 2020  23:24:23  \n97            F9 B5         Success  16 November 2020     00:27  \n98            F9 B5         Success  21 November 2020  17:17:08  \n99          F9 B5 \u267a         Success  25 November 2020     02:13  \n100         F9 B5 \u267a         Success   6 December 2020  16:17:08  \n101         F9 B5 \u267a         Success  13 December 2020  17:30:00  \n102         F9 B5 \u267a         Success  19 December 2020  14:00:00  \n103           F9 B5         Success    8 January 2021     02:15  \n104    F9 B5B1051.8         Success   20 January 2021     13:02  \n105    F9 B5B1058.5         Success   24 January 2021     15:00  \n106         F9 B5 \u267a         Success   4 February 2021     06:19  \n107         F9 B5 \u267a         Failure  16 February 2021  03:59:37  \n108         F9 B5 \u267a         Success      4 March 2021     08:24  \n109         F9 B5 \u267a         Success     11 March 2021  08:13:29  \n110         F9 B5 \u267a         Success     14 March 2021     10:01  \n111    F9 B5B1060.6         Success     24 March 2021     08:28  \n112         F9 B5 \u267a         Success      7 April 2021     16:34  \n113    F9 B5B1061.2         Success     23 April 2021      9:49  \n114    F9 B5B1060.7         Success     29 April 2021     03:44  \n115    F9 B5B1049.9         Success        4 May 2021     19:01  \n116   F9 B5B1051.10         Success        9 May 2021     06:42  \n117    F9 B5B1058.8         Success       15 May 2021     22:56  \n118    F9 B5B1063.2         Success       26 May 2021     18:59  \n119    F9 B5B1067.1         Success       3 June 2021     17:29  \n120           F9 B5         Success       6 June 2021     04:26  ",
                        "text/html": "<div>\n<style scoped>\n    .dataframe tbody tr th:only-of-type {\n        vertical-align: middle;\n    }\n\n    .dataframe tbody tr th {\n        vertical-align: top;\n    }\n\n    .dataframe thead th {\n        text-align: right;\n    }\n</style>\n<table border=\"1\" class=\"dataframe\">\n  <thead>\n    <tr style=\"text-align: right;\">\n      <th></th>\n      <th>Flight No.</th>\n      <th>Launch site</th>\n      <th>Payload</th>\n      <th>Payload mass</th>\n      <th>Orbit</th>\n      <th>Customer</th>\n      <th>Launch outcome</th>\n      <th>Version Booster</th>\n      <th>Booster landing</th>\n      <th>Date</th>\n      <th>Time</th>\n    </tr>\n  </thead>\n  <tbody>\n    <tr>\n      <th>71</th>\n      <td>72</td>\n      <td>VAFB</td>\n      <td>RADARSAT Constellation</td>\n      <td>4,200 kg</td>\n      <td>SSO</td>\n      <td>Canadian Space Agency</td>\n      <td>Success</td>\n      <td>F9 B5B1051.2</td>\n      <td>Success</td>\n      <td>12 June 2019</td>\n      <td>14:17</td>\n    </tr>\n    <tr>\n      <th>72</th>\n      <td>73</td>\n      <td>CCAFS</td>\n      <td>SpaceX CRS-18</td>\n      <td>2,268 kg</td>\n      <td>LEO</td>\n      <td>NASA</td>\n      <td>Success</td>\n      <td>F9 B5B1056.2</td>\n      <td>Success</td>\n      <td>25 July 2019</td>\n      <td>22:01</td>\n    </tr>\n    <tr>\n      <th>73</th>\n      <td>74</td>\n      <td>CCAFS</td>\n      <td>AMOS-17</td>\n      <td>6,500 kg</td>\n      <td>GTO</td>\n      <td>Spacecom</td>\n      <td>Success</td>\n      <td>F9 B5B1047.3</td>\n      <td>No attempt</td>\n      <td>6 August 2019</td>\n      <td>23:23</td>\n    </tr>\n    <tr>\n      <th>74</th>\n      <td>75</td>\n      <td>CCAFS</td>\n      <td>Starlink</td>\n      <td>15,600 kg</td>\n      <td>LEO</td>\n      <td>SpaceX</td>\n      <td>Success</td>\n      <td>F9 B5</td>\n      <td>Success</td>\n      <td>11 November 2019</td>\n      <td>14:56</td>\n    </tr>\n    <tr>\n      <th>75</th>\n      <td>76</td>\n      <td>CCAFS</td>\n      <td>SpaceX CRS-19</td>\n      <td>2,617 kg</td>\n      <td>LEO</td>\n      <td>NASA</td>\n      <td>Success</td>\n      <td>F9 B5</td>\n      <td>Success</td>\n      <td>5 December 2019</td>\n      <td>17:29</td>\n    </tr>\n    <tr>\n      <th>76</th>\n      <td>77</td>\n      <td>CCAFS</td>\n      <td>JCSat-18</td>\n      <td>6,956 kg</td>\n      <td>GTO</td>\n      <td>Sky Perfect JSAT</td>\n      <td>Success</td>\n      <td>F9 B5B1056.3</td>\n      <td>Success</td>\n      <td>17 December 2019</td>\n      <td>00:10</td>\n    </tr>\n    <tr>\n      <th>77</th>\n      <td>78</td>\n      <td>CCAFS</td>\n      <td>Starlink</td>\n      <td>15,600 kg</td>\n      <td>LEO</td>\n      <td>SpaceX</td>\n      <td>Success</td>\n      <td>F9 B5</td>\n      <td>Success</td>\n      <td>7 January 2020</td>\n      <td>02:19:21</td>\n    </tr>\n    <tr>\n      <th>78</th>\n      <td>79</td>\n      <td>KSC</td>\n      <td>Crew Dragon in-flight abort test</td>\n      <td>12,050 kg</td>\n      <td>Sub-orbital</td>\n      <td>NASA</td>\n      <td>Success</td>\n      <td>F9 B5</td>\n      <td>No attempt</td>\n      <td>19 January 2020</td>\n      <td>15:30</td>\n    </tr>\n    <tr>\n      <th>79</th>\n      <td>80</td>\n      <td>CCAFS</td>\n      <td>Starlink</td>\n      <td>15,600 kg</td>\n      <td>LEO</td>\n      <td>SpaceX</td>\n      <td>Success</td>\n      <td>F9 B5</td>\n      <td>Success</td>\n      <td>29 January 2020</td>\n      <td>14:07</td>\n    </tr>\n    <tr>\n      <th>80</th>\n      <td>81</td>\n      <td>CCAFS</td>\n      <td>Starlink</td>\n      <td>15,600 kg</td>\n      <td>LEO</td>\n      <td>SpaceX</td>\n      <td>Success</td>\n      <td>F9 B5</td>\n      <td>Failure</td>\n      <td>17 February 2020</td>\n      <td>15:05</td>\n    </tr>\n    <tr>\n      <th>81</th>\n      <td>82</td>\n      <td>CCAFS</td>\n      <td>SpaceX CRS-20</td>\n      <td>1,977 kg</td>\n      <td>LEO</td>\n      <td>NASA</td>\n      <td>Success</td>\n      <td>F9 B5</td>\n      <td>Success</td>\n      <td>7 March 2020</td>\n      <td>04:50</td>\n    </tr>\n    <tr>\n      <th>82</th>\n      <td>83</td>\n      <td>KSC</td>\n      <td>Starlink</td>\n      <td>15,600 kg</td>\n      <td>LEO</td>\n      <td>SpaceX</td>\n      <td>Success</td>\n      <td>F9 B5</td>\n      <td>Failure</td>\n      <td>18 March 2020</td>\n      <td>12:16</td>\n    </tr>\n    <tr>\n      <th>83</th>\n      <td>84</td>\n      <td>KSC</td>\n      <td>Starlink</td>\n      <td>15,600 kg</td>\n      <td>LEO</td>\n      <td>SpaceX</td>\n      <td>Success</td>\n      <td>F9 B5</td>\n      <td>Success</td>\n      <td>22 April 2020</td>\n      <td>19:30</td>\n    </tr>\n    <tr>\n      <th>84</th>\n      <td>85</td>\n      <td>KSC</td>\n      <td>Crew Dragon Demo-2</td>\n      <td>12,530 kg</td>\n      <td>LEO</td>\n      <td>NASA</td>\n      <td>Success</td>\n      <td>F9 B5</td>\n      <td>Success</td>\n      <td>30 May 2020</td>\n      <td>19:22</td>\n    </tr>\n    <tr>\n      <th>85</th>\n      <td>86</td>\n      <td>CCAFS</td>\n      <td>Starlink</td>\n      <td>15,600 kg</td>\n      <td>LEO</td>\n      <td>SpaceX</td>\n      <td>Success</td>\n      <td>F9 B5</td>\n      <td>Success</td>\n      <td>4 June 2020</td>\n      <td>01:25</td>\n    </tr>\n    <tr>\n      <th>86</th>\n      <td>87</td>\n      <td>CCAFS</td>\n      <td>Starlink</td>\n      <td>15,410 kg</td>\n      <td>LEO</td>\n      <td>SpaceX</td>\n      <td>Success</td>\n      <td>F9 B5</td>\n      <td>Success</td>\n      <td>13 June 2020</td>\n      <td>09:21</td>\n    </tr>\n    <tr>\n      <th>87</th>\n      <td>88</td>\n      <td>CCAFS</td>\n      <td>GPS III</td>\n      <td>4,311 kg</td>\n      <td>MEO</td>\n      <td>U.S. Space Force</td>\n      <td>Success</td>\n      <td>F9 B5</td>\n      <td>Success</td>\n      <td>30 June 2020</td>\n      <td>20:10:46</td>\n    </tr>\n    <tr>\n      <th>88</th>\n      <td>89</td>\n      <td>CCAFS</td>\n      <td>ANASIS-II</td>\n      <td>5,000\u20136,000 kg</td>\n      <td>GTO</td>\n      <td>Republic of Korea Army</td>\n      <td>Success</td>\n      <td>F9 B5B1058.2</td>\n      <td>Success</td>\n      <td>20 July 2020</td>\n      <td>21:30</td>\n    </tr>\n    <tr>\n      <th>89</th>\n      <td>90</td>\n      <td>KSC</td>\n      <td>Starlink</td>\n      <td>14,932 kg</td>\n      <td>LEO</td>\n      <td>SpaceX</td>\n      <td>Success</td>\n      <td>F9 B5</td>\n      <td>Success</td>\n      <td>7 August 2020</td>\n      <td>05:12</td>\n    </tr>\n    <tr>\n      <th>90</th>\n      <td>91</td>\n      <td>CCAFS</td>\n      <td>Starlink</td>\n      <td>~15,440 kg</td>\n      <td>LEO</td>\n      <td>SpaceX</td>\n      <td>Success</td>\n      <td>F9 B5B1049.6</td>\n      <td>Success</td>\n      <td>18 August 2020</td>\n      <td>14:31</td>\n    </tr>\n    <tr>\n      <th>91</th>\n      <td>92</td>\n      <td>CCAFS</td>\n      <td>SAOCOM 1B</td>\n      <td>3,130 kg</td>\n      <td>SSO</td>\n      <td>CONAE</td>\n      <td>Success</td>\n      <td>F9 B5</td>\n      <td>Success</td>\n      <td>30 August 2020</td>\n      <td>23:18</td>\n    </tr>\n    <tr>\n      <th>92</th>\n      <td>93</td>\n      <td>KSC</td>\n      <td>Starlink</td>\n      <td>15,600 kg</td>\n      <td>LEO</td>\n      <td>SpaceX</td>\n      <td>Success</td>\n      <td>F9 B5B1060.2</td>\n      <td>Success</td>\n      <td>3 September 2020</td>\n      <td>12:46:14</td>\n    </tr>\n    <tr>\n      <th>93</th>\n      <td>94</td>\n      <td>KSC</td>\n      <td>Starlink</td>\n      <td>15,600 kg</td>\n      <td>LEO</td>\n      <td>SpaceX</td>\n      <td>Success</td>\n      <td>F9 B5B1058.3</td>\n      <td>Success</td>\n      <td>6 October 2020</td>\n      <td>11:29:34</td>\n    </tr>\n    <tr>\n      <th>94</th>\n      <td>95</td>\n      <td>KSC</td>\n      <td>Starlink</td>\n      <td>15,600 kg</td>\n      <td>LEO</td>\n      <td>SpaceX</td>\n      <td>Success</td>\n      <td>F9 B5B1051.6</td>\n      <td>Success</td>\n      <td>18 October 2020</td>\n      <td>12:25:57</td>\n    </tr>\n    <tr>\n      <th>95</th>\n      <td>96</td>\n      <td>CCAFS</td>\n      <td>Starlink</td>\n      <td>15,600 kg</td>\n      <td>LEO</td>\n      <td>SpaceX</td>\n      <td>Success</td>\n      <td>F9 B5</td>\n      <td>Success</td>\n      <td>24 October 2020</td>\n      <td>15:31:34</td>\n    </tr>\n    <tr>\n      <th>96</th>\n      <td>97</td>\n      <td>CCAFS</td>\n      <td>GPS III</td>\n      <td>4,311 kg</td>\n      <td>MEO</td>\n      <td>USSF</td>\n      <td>Success</td>\n      <td>F9 B5</td>\n      <td>Success</td>\n      <td>5 November 2020</td>\n      <td>23:24:23</td>\n    </tr>\n    <tr>\n      <th>97</th>\n      <td>98</td>\n      <td>KSC</td>\n      <td>Crew-1</td>\n      <td>~12,500 kg</td>\n      <td>LEO</td>\n      <td>NASA</td>\n      <td>Success</td>\n      <td>F9 B5</td>\n      <td>Success</td>\n      <td>16 November 2020</td>\n      <td>00:27</td>\n    </tr>\n    <tr>\n      <th>98</th>\n      <td>99</td>\n      <td>VAFB</td>\n      <td>Sentinel-6 Michael Freilich (Jason-CS A)</td>\n      <td>1,192 kg</td>\n      <td>LEO</td>\n      <td>NASA</td>\n      <td>Success</td>\n      <td>F9 B5</td>\n      <td>Success</td>\n      <td>21 November 2020</td>\n      <td>17:17:08</td>\n    </tr>\n    <tr>\n      <th>99</th>\n      <td>100</td>\n      <td>CCAFS</td>\n      <td>Starlink</td>\n      <td>15,600 kg</td>\n      <td>LEO</td>\n      <td>SpaceX</td>\n      <td>Success</td>\n      <td>F9 B5 \u267a</td>\n      <td>Success</td>\n      <td>25 November 2020</td>\n      <td>02:13</td>\n    </tr>\n    <tr>\n      <th>100</th>\n      <td>101</td>\n      <td>KSC</td>\n      <td>SpaceX CRS-21</td>\n      <td>2,972 kg</td>\n      <td>LEO</td>\n      <td>NASA</td>\n      <td>Success</td>\n      <td>F9 B5 \u267a</td>\n      <td>Success</td>\n      <td>6 December 2020</td>\n      <td>16:17:08</td>\n    </tr>\n    <tr>\n      <th>101</th>\n      <td>102</td>\n      <td>CCSFS</td>\n      <td>SXM-7</td>\n      <td>7,000 kg</td>\n      <td>GTO</td>\n      <td>Sirius XM</td>\n      <td>Success</td>\n      <td>F9 B5 \u267a</td>\n      <td>Success</td>\n      <td>13 December 2020</td>\n      <td>17:30:00</td>\n    </tr>\n    <tr>\n      <th>102</th>\n      <td>103</td>\n      <td>KSC</td>\n      <td>NROL-108</td>\n      <td>C</td>\n      <td>LEO</td>\n      <td>NRO</td>\n      <td>Success</td>\n      <td>F9 B5 \u267a</td>\n      <td>Success</td>\n      <td>19 December 2020</td>\n      <td>14:00:00</td>\n    </tr>\n    <tr>\n      <th>103</th>\n      <td>104</td>\n      <td>CCSFS</td>\n      <td>T\u00fcrksat 5A</td>\n      <td>3,500 kg</td>\n      <td>GTO</td>\n      <td>T\u00fcrksat</td>\n      <td>Success</td>\n      <td>F9 B5</td>\n      <td>Success</td>\n      <td>8 January 2021</td>\n      <td>02:15</td>\n    </tr>\n    <tr>\n      <th>104</th>\n      <td>105</td>\n      <td>KSC</td>\n      <td>Starlink</td>\n      <td>15,600 kg</td>\n      <td>LEO</td>\n      <td>SpaceX</td>\n      <td>Success</td>\n      <td>F9 B5B1051.8</td>\n      <td>Success</td>\n      <td>20 January 2021</td>\n      <td>13:02</td>\n    </tr>\n    <tr>\n      <th>105</th>\n      <td>106</td>\n      <td>CCSFS</td>\n      <td>Transporter-1</td>\n      <td>~5,000 kg</td>\n      <td>SSO</td>\n      <td>Various\\n</td>\n      <td>Success</td>\n      <td>F9 B5B1058.5</td>\n      <td>Success</td>\n      <td>24 January 2021</td>\n      <td>15:00</td>\n    </tr>\n    <tr>\n      <th>106</th>\n      <td>107</td>\n      <td>CCSFS</td>\n      <td>Starlink</td>\n      <td>15,600 kg</td>\n      <td>LEO</td>\n      <td>SpaceX</td>\n      <td>Success</td>\n      <td>F9 B5 \u267a</td>\n      <td>Success</td>\n      <td>4 February 2021</td>\n      <td>06:19</td>\n    </tr>\n    <tr>\n      <th>107</th>\n      <td>108</td>\n      <td>CCSFS</td>\n      <td>Starlink</td>\n      <td>15,600 kg</td>\n      <td>LEO</td>\n      <td>SpaceX</td>\n      <td>Success</td>\n      <td>F9 B5 \u267a</td>\n      <td>Failure</td>\n      <td>16 February 2021</td>\n      <td>03:59:37</td>\n    </tr>\n    <tr>\n      <th>108</th>\n      <td>109</td>\n      <td>KSC</td>\n      <td>Starlink</td>\n      <td>15,600 kg</td>\n      <td>LEO</td>\n      <td>SpaceX</td>\n      <td>Success</td>\n      <td>F9 B5 \u267a</td>\n      <td>Success</td>\n      <td>4 March 2021</td>\n      <td>08:24</td>\n    </tr>\n    <tr>\n      <th>109</th>\n      <td>110</td>\n      <td>CCSFS</td>\n      <td>Starlink</td>\n      <td>15,600 kg</td>\n      <td>LEO</td>\n      <td>SpaceX</td>\n      <td>Success</td>\n      <td>F9 B5 \u267a</td>\n      <td>Success</td>\n      <td>11 March 2021</td>\n      <td>08:13:29</td>\n    </tr>\n    <tr>\n      <th>110</th>\n      <td>111</td>\n      <td>KSC</td>\n      <td>Starlink</td>\n      <td>15,600 kg</td>\n      <td>LEO</td>\n      <td>SpaceX</td>\n      <td>Success</td>\n      <td>F9 B5 \u267a</td>\n      <td>Success</td>\n      <td>14 March 2021</td>\n      <td>10:01</td>\n    </tr>\n    <tr>\n      <th>111</th>\n      <td>112</td>\n      <td>CCSFS</td>\n      <td>Starlink</td>\n      <td>15,600 kg</td>\n      <td>LEO</td>\n      <td>SpaceX</td>\n      <td>Success</td>\n      <td>F9 B5B1060.6</td>\n      <td>Success</td>\n      <td>24 March 2021</td>\n      <td>08:28</td>\n    </tr>\n    <tr>\n      <th>112</th>\n      <td>113</td>\n      <td>CCSFS</td>\n      <td>Starlink</td>\n      <td>15,600 kg</td>\n      <td>LEO</td>\n      <td>SpaceX</td>\n      <td>Success</td>\n      <td>F9 B5 \u267a</td>\n      <td>Success</td>\n      <td>7 April 2021</td>\n      <td>16:34</td>\n    </tr>\n    <tr>\n      <th>113</th>\n      <td>114</td>\n      <td>KSC</td>\n      <td>Crew-2</td>\n      <td>~13,000 kg</td>\n      <td>LEO</td>\n      <td>NASA</td>\n      <td>Success</td>\n      <td>F9 B5B1061.2</td>\n      <td>Success</td>\n      <td>23 April 2021</td>\n      <td>9:49</td>\n    </tr>\n    <tr>\n      <th>114</th>\n      <td>115</td>\n      <td>CCSFS</td>\n      <td>Starlink</td>\n      <td>15,600 kg</td>\n      <td>LEO</td>\n      <td>SpaceX</td>\n      <td>Success</td>\n      <td>F9 B5B1060.7</td>\n      <td>Success</td>\n      <td>29 April 2021</td>\n      <td>03:44</td>\n    </tr>\n    <tr>\n      <th>115</th>\n      <td>116</td>\n      <td>KSC</td>\n      <td>Starlink</td>\n      <td>15,600 kg</td>\n      <td>LEO</td>\n      <td>SpaceX</td>\n      <td>Success</td>\n      <td>F9 B5B1049.9</td>\n      <td>Success</td>\n      <td>4 May 2021</td>\n      <td>19:01</td>\n    </tr>\n    <tr>\n      <th>116</th>\n      <td>117</td>\n      <td>CCSFS</td>\n      <td>Starlink</td>\n      <td>15,600 kg</td>\n      <td>LEO</td>\n      <td>SpaceX</td>\n      <td>Success</td>\n      <td>F9 B5B1051.10</td>\n      <td>Success</td>\n      <td>9 May 2021</td>\n      <td>06:42</td>\n    </tr>\n    <tr>\n      <th>117</th>\n      <td>118</td>\n      <td>KSC</td>\n      <td>Starlink</td>\n      <td>~14,000 kg</td>\n      <td>LEO</td>\n      <td>SpaceX</td>\n      <td>Success</td>\n      <td>F9 B5B1058.8</td>\n      <td>Success</td>\n      <td>15 May 2021</td>\n      <td>22:56</td>\n    </tr>\n    <tr>\n      <th>118</th>\n      <td>119</td>\n      <td>CCSFS</td>\n      <td>Starlink</td>\n      <td>15,600 kg</td>\n      <td>LEO</td>\n      <td>SpaceX</td>\n      <td>Success</td>\n      <td>F9 B5B1063.2</td>\n      <td>Success</td>\n      <td>26 May 2021</td>\n      <td>18:59</td>\n    </tr>\n    <tr>\n      <th>119</th>\n      <td>120</td>\n      <td>KSC</td>\n      <td>SpaceX CRS-22</td>\n      <td>3,328 kg</td>\n      <td>LEO</td>\n      <td>NASA</td>\n      <td>Success</td>\n      <td>F9 B5B1067.1</td>\n      <td>Success</td>\n      <td>3 June 2021</td>\n      <td>17:29</td>\n    </tr>\n    <tr>\n      <th>120</th>\n      <td>121</td>\n      <td>CCSFS</td>\n      <td>SXM-8</td>\n      <td>7,000 kg</td>\n      <td>GTO</td>\n      <td>Sirius XM</td>\n      <td>Success</td>\n      <td>F9 B5</td>\n      <td>Success</td>\n      <td>6 June 2021</td>\n      <td>04:26</td>\n    </tr>\n  </tbody>\n</table>\n</div>"
                    },
                    "metadata": {}
                }
            ]
        },
        {
            "metadata": {},
            "cell_type": "markdown",
            "source": "After you have fill in the parsed launch record values into `launch_dict`, you can create a dataframe from it.\n"
        },
        {
            "metadata": {},
            "cell_type": "code",
            "source": "df=pd.DataFrame(launch_dict)",
            "execution_count": 37,
            "outputs": []
        },
        {
            "metadata": {},
            "cell_type": "markdown",
            "source": "We can now export it to a <b>CSV</b> for the next section, but to make the answers consistent and in case you have difficulties finishing this lab.\n\nFollowing labs will be using a provided dataset to make each lab independent.\n"
        },
        {
            "metadata": {},
            "cell_type": "code",
            "source": "new_df.to_csv('spacex_web_scraped.csv', index=False)",
            "execution_count": 38,
            "outputs": []
        },
        {
            "metadata": {},
            "cell_type": "markdown",
            "source": "<code>df.to_csv('spacex_web_scraped.csv', index=False)</code>\n"
        },
        {
            "metadata": {},
            "cell_type": "markdown",
            "source": "## Authors\n"
        },
        {
            "metadata": {},
            "cell_type": "markdown",
            "source": "<a href=\"https://www.linkedin.com/in/yan-luo-96288783/?utm_medium=Exinfluencer&utm_source=Exinfluencer&utm_content=000026UJ&utm_term=10006555&utm_id=NA-SkillsNetwork-Channel-SkillsNetworkCoursesIBMDS0321ENSkillsNetwork26802033-2022-01-01\">Yan Luo</a>\n"
        },
        {
            "metadata": {},
            "cell_type": "markdown",
            "source": "<a href=\"https://www.linkedin.com/in/nayefaboutayoun/?utm_medium=Exinfluencer&utm_source=Exinfluencer&utm_content=000026UJ&utm_term=10006555&utm_id=NA-SkillsNetwork-Channel-SkillsNetworkCoursesIBMDS0321ENSkillsNetwork26802033-2022-01-01\">Nayef Abou Tayoun</a>\n"
        },
        {
            "metadata": {},
            "cell_type": "markdown",
            "source": "## Change Log\n"
        },
        {
            "metadata": {},
            "cell_type": "markdown",
            "source": "| Date (YYYY-MM-DD) | Version | Changed By | Change Description          |\n| ----------------- | ------- | ---------- | --------------------------- |\n| 2021-06-09        | 1.0     | Yan Luo    | Tasks updates               |\n| 2020-11-10        | 1.0     | Nayef      | Created the initial version |\n"
        },
        {
            "metadata": {},
            "cell_type": "markdown",
            "source": "Copyright \u00a9 2021 IBM Corporation. All rights reserved.\n"
        }
    ],
    "metadata": {
        "kernelspec": {
            "name": "python3",
            "display_name": "Python 3.10",
            "language": "python"
        },
        "language_info": {
            "name": "python",
            "version": "3.10.6",
            "mimetype": "text/x-python",
            "codemirror_mode": {
                "name": "ipython",
                "version": 3
            },
            "pygments_lexer": "ipython3",
            "nbconvert_exporter": "python",
            "file_extension": ".py"
        }
    },
    "nbformat": 4,
    "nbformat_minor": 4
}